{
 "cells": [
  {
   "cell_type": "markdown",
   "metadata": {},
   "source": [
    "# D03\n",
    "\n",
    "作業目標:\n",
    "\n",
    "嘗試練習log的函式並應用\n",
    "\n",
    "作業重點:\n",
    "\n",
    "學員需要複習log的轉換方式\n",
    "\n",
    "熟悉運用指數函數以及對數函數\n",
    "\n",
    "\n",
    "題目:\n",
    "\n",
    "運用投影片中的分貝公式回答下列問題。\n",
    "\n",
    "1.正常的談話的聲壓為20000微巴斯卡，請問多少分貝?\n",
    "\n",
    "2.30分貝的聲壓會是50分貝的幾倍?"
   ]
  },
  {
   "cell_type": "code",
   "execution_count": 1,
   "metadata": {},
   "outputs": [],
   "source": [
    "import numpy as np"
   ]
  },
  {
   "cell_type": "code",
   "execution_count": 2,
   "metadata": {},
   "outputs": [
    {
     "data": {
      "text/plain": [
       "60.0"
      ]
     },
     "execution_count": 2,
     "metadata": {},
     "output_type": "execute_result"
    }
   ],
   "source": [
    "# 1. 正常的談話的聲壓為20000微巴斯卡，請問多少分貝?\n",
    "V1 = 20000\n",
    "V0 = 20\n",
    "20*np.log10(V1/V0)"
   ]
  },
  {
   "cell_type": "code",
   "execution_count": 3,
   "metadata": {},
   "outputs": [
    {
     "data": {
      "text/plain": [
       "0.09999999999999999"
      ]
     },
     "execution_count": 3,
     "metadata": {},
     "output_type": "execute_result"
    }
   ],
   "source": [
    "# 2. 30分貝的聲壓會是50分貝的幾倍?\n",
    "V30 = 20*10**(3/2)\n",
    "V50 = 20*10**(5/2)\n",
    "V30/V50"
   ]
  }
 ],
 "metadata": {
  "kernelspec": {
   "display_name": "Python 3",
   "language": "python",
   "name": "python3"
  },
  "language_info": {
   "codemirror_mode": {
    "name": "ipython",
    "version": 3
   },
   "file_extension": ".py",
   "mimetype": "text/x-python",
   "name": "python",
   "nbconvert_exporter": "python",
   "pygments_lexer": "ipython3",
   "version": "3.8.5"
  }
 },
 "nbformat": 4,
 "nbformat_minor": 4
}
